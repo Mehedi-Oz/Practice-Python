{
 "cells": [
  {
   "cell_type": "code",
   "execution_count": null,
   "metadata": {},
   "outputs": [],
   "source": [
    "#array consists of numbers\n",
    "\n",
    "def linear_search(nums, target):\n",
    "    for i in range(len(nums)):\n",
    "        if nums[i] == target:\n",
    "            return True\n",
    "    return False\n",
    "\n",
    "\n",
    "nums = [9, 1, 4, 6, 7]\n",
    "target = 0\n",
    "print(f\"Linear Search Output: {linear_search(nums, target)}\")"
   ]
  },
  {
   "cell_type": "code",
   "execution_count": null,
   "metadata": {},
   "outputs": [],
   "source": [
    "# array consists of strings\n",
    "\n",
    "\n",
    "def linear_search(name, target):\n",
    "    for i in name:\n",
    "        if i == target:\n",
    "            return True\n",
    "    return False\n",
    "\n",
    "\n",
    "name = \"kamrul\"\n",
    "target = \"u\"\n",
    "name_array = list(name)\n",
    "print(f\"Linear Search Output: {linear_search(name, target)}\")\n",
    "print(f\"Name String in List Format: {name_array}\")"
   ]
  },
  {
   "cell_type": "code",
   "execution_count": null,
   "metadata": {},
   "outputs": [],
   "source": [
    "# range search\n",
    "\n",
    "\n",
    "def linear_search(name, target):\n",
    "    \n",
    "    for i in range(0, 1):\n",
    "        if name[i] == target:\n",
    "            return True\n",
    "    return False\n",
    "\n",
    "\n",
    "name = \"kamrul\"\n",
    "target = \"l\"\n",
    "print(f\"Linear Search Output: {linear_search(name, target)}\")"
   ]
  },
  {
   "cell_type": "code",
   "execution_count": null,
   "metadata": {},
   "outputs": [],
   "source": [
    "# minimum number in the array\n",
    "\n",
    "\n",
    "def linear_search(nums):\n",
    "    minimum = nums[0]\n",
    "\n",
    "    for i in nums:\n",
    "        if minimum > i:\n",
    "            minimum = i\n",
    "    return minimum\n",
    "\n",
    "\n",
    "nums = [9, 1, 4, 6, 7]\n",
    "print(f\"Minimum Number: {linear_search(nums)}\")"
   ]
  },
  {
   "cell_type": "code",
   "execution_count": 60,
   "metadata": {},
   "outputs": [
    {
     "name": "stdout",
     "output_type": "stream",
     "text": [
      "Target in 2D Array: (2, 2)\n"
     ]
    }
   ],
   "source": [
    "# 2D array\n",
    "\n",
    "\n",
    "def linear_search(nums, target):\n",
    "    for i in range(len(nums)):\n",
    "        for j in range(len(nums[i])):\n",
    "            if nums[i][j] == target:\n",
    "                return (i, j)\n",
    "    return False\n",
    "\n",
    "\n",
    "nums = [[1, 2, 3], [4, 5, 6], [7, 8, 19]]\n",
    "target = 19\n",
    "print(f\"Target in 2D Array: {linear_search(nums, target)}\")"
   ]
  },
  {
   "cell_type": "code",
   "execution_count": 57,
   "metadata": {},
   "outputs": [
    {
     "name": "stdout",
     "output_type": "stream",
     "text": [
      "12\n",
      "345\n",
      "2\n",
      "6\n",
      "7896\n",
      "Output: None\n"
     ]
    }
   ],
   "source": [
    "def even_numbers(number):\n",
    "    count = 0\n",
    "    while number > 0:\n",
    "        count+=1\n",
    "        number = number/10\n",
    "\n",
    "\n",
    "def check_numbers(nums):\n",
    "    for number in nums:\n",
    "        even_numbers(number)\n",
    "\n",
    "\n",
    "nums = [12, 345, 2, 6, 7896]\n",
    "print(f\"Output: {check_numbers(nums)}\")"
   ]
  },
  {
   "cell_type": "code",
   "execution_count": 54,
   "metadata": {},
   "outputs": [
    {
     "name": "stdout",
     "output_type": "stream",
     "text": [
      "Total Even Numbers: 0\n",
      "Time Complexity is O(N*M) / O(N * log₁₀(N)) - Unoptimized Solution\n"
     ]
    }
   ],
   "source": [
    "# 1295. Find Numbers with Even Number of Digits\n",
    "# (https://leetcode.com/problems/find-numbers-with-even-number-of-digits/)\n",
    "\n",
    "\n",
    "def total_even_numbers(count):\n",
    "\n",
    "    if count % 2 == 0:\n",
    "        return 1\n",
    "\n",
    "    return 0\n",
    "\n",
    "\n",
    "def counting_digits(number):\n",
    "    count = 0\n",
    "\n",
    "    if number < 0:\n",
    "        number = number * -1\n",
    "\n",
    "    if number == 0:\n",
    "        return 0\n",
    "    else:\n",
    "        while number > 0:\n",
    "            count += 1\n",
    "            number = number // 10\n",
    "\n",
    "    return total_even_numbers(count)\n",
    "\n",
    "\n",
    "def finding_even_numbers(nums):\n",
    "    total_even_numbers = 0\n",
    "\n",
    "    if len(nums) == 0:\n",
    "        return 0\n",
    "    else:\n",
    "        for number in nums:\n",
    "            total_even_numbers += counting_digits(number)\n",
    "\n",
    "    return total_even_numbers\n",
    "\n",
    "\n",
    "nums = [0]\n",
    "print(f\"Total Even Numbers: {finding_even_numbers(nums)}\")\n",
    "print(\"Time Complexity is O(N*M) / O(N * log₁₀(N)) - Unoptimized Solution\")"
   ]
  },
  {
   "cell_type": "code",
   "execution_count": null,
   "metadata": {},
   "outputs": [],
   "source": [
    "# 1295. Find Numbers with Even Number of Digits\n",
    "# (https://leetcode.com/problems/find-numbers-with-even-number-of-digits/)\n",
    "\n",
    "\n",
    "def total_even_numbers(count):\n",
    "\n",
    "    if count % 2 == 0:\n",
    "        return 1\n",
    "\n",
    "    return 0\n",
    "\n",
    "\n",
    "def counting_digits(number):\n",
    "    count = 0\n",
    "\n",
    "    if number < 0:\n",
    "        number = number * -1\n",
    "\n",
    "    if number == 0:\n",
    "        return 0\n",
    "    else:\n",
    "        while number > 0:\n",
    "            count += 1\n",
    "            number = number // 10\n",
    "\n",
    "    return total_even_numbers(count)\n",
    "\n",
    "\n",
    "def finding_even_numbers(nums):\n",
    "    total_even_numbers = 0\n",
    "\n",
    "    if len(nums) == 0:\n",
    "        return 0\n",
    "    else:\n",
    "        for number in nums:\n",
    "            total_even_numbers += counting_digits(number)\n",
    "\n",
    "    return total_even_numbers\n",
    "\n",
    "\n",
    "nums = [0]\n",
    "print(f\"Total Even Numbers: {finding_even_numbers(nums)}\")\n",
    "print(\"Time Complexity is O(N*M) / O(N * log₁₀(N)) - Unoptimized Solution\")"
   ]
  },
  {
   "cell_type": "code",
   "execution_count": 56,
   "metadata": {},
   "outputs": [
    {
     "name": "stdout",
     "output_type": "stream",
     "text": [
      "Total Even Numbers: 0\n",
      "Time Complexity is O(N) - Optimized Solution\n"
     ]
    }
   ],
   "source": [
    "# 1295. Find Numbers with Even Number of Digits\n",
    "# (https://leetcode.com/problems/find-numbers-with-even-number-of-digits/)\n",
    "\n",
    "\n",
    "def finding_even_numbers(nums):\n",
    "    total_even_numbers = 0\n",
    "\n",
    "    for number in nums:\n",
    "        if len(str(abs(number))) % 2 == 0:\n",
    "            total_even_numbers += 1\n",
    "\n",
    "    return total_even_numbers\n",
    "\n",
    "\n",
    "nums = [0]\n",
    "print(f\"Total Even Numbers: {finding_even_numbers(nums)}\")\n",
    "print(\"Time Complexity is O(N) - Optimized Solution\")"
   ]
  },
  {
   "cell_type": "code",
   "execution_count": 105,
   "metadata": {},
   "outputs": [
    {
     "name": "stdout",
     "output_type": "stream",
     "text": [
      "0\n",
      "Richest Customer Wealth: 0\n"
     ]
    }
   ],
   "source": [
    "# 1672. Richest Customer Wealth\n",
    "# https://leetcode.com/problems/richest-customer-wealth/description/\n",
    "\n",
    "\n",
    "def customer_wealth(accounts):\n",
    "    max = 0\n",
    "    row_value = 0\n",
    "\n",
    "    for row in accounts:\n",
    "        row_value = sum(row)\n",
    "        print(len(row))\n",
    "\n",
    "        if row_value > max:\n",
    "            max = row_value\n",
    "\n",
    "    return max\n",
    "\n",
    "\n",
    "accounts =  [[]]\n",
    "print(f\"Richest Customer Wealth: {customer_wealth(accounts)}\")"
   ]
  }
 ],
 "metadata": {
  "kernelspec": {
   "display_name": "Python 3",
   "language": "python",
   "name": "python3"
  },
  "language_info": {
   "codemirror_mode": {
    "name": "ipython",
    "version": 3
   },
   "file_extension": ".py",
   "mimetype": "text/x-python",
   "name": "python",
   "nbconvert_exporter": "python",
   "pygments_lexer": "ipython3",
   "version": "3.13.1"
  }
 },
 "nbformat": 4,
 "nbformat_minor": 2
}
