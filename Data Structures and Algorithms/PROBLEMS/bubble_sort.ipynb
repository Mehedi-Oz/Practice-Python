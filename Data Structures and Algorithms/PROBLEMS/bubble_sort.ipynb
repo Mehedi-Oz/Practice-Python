{
 "cells": [
  {
   "cell_type": "code",
   "execution_count": 3,
   "metadata": {},
   "outputs": [
    {
     "name": "stdout",
     "output_type": "stream",
     "text": [
      "Original Array: [1, 2, -3, -4, 5]\n",
      "Sorted Array: [-4, -3, 1, 2, 5]\n"
     ]
    }
   ],
   "source": [
    "def bubble_sort(nums):\n",
    "    for i in range(len(nums)):\n",
    "        swapped = False\n",
    "\n",
    "        for j in range(1, len(nums) - i):\n",
    "            if nums[j - 1] > nums[j]:\n",
    "                temp = nums[j]\n",
    "                nums[j] = nums[j - 1]\n",
    "                nums[j - 1] = temp\n",
    "                swapped = True\n",
    "\n",
    "        if not swapped:\n",
    "            break\n",
    "\n",
    "    return nums\n",
    "\n",
    "\n",
    "nums = [1,2,-3,-4,5]\n",
    "print(f\"Original Array: {nums}\")\n",
    "print(f\"Sorted Array: {bubble_sort(nums)}\")"
   ]
  }
 ],
 "metadata": {
  "kernelspec": {
   "display_name": "Python 3",
   "language": "python",
   "name": "python3"
  },
  "language_info": {
   "codemirror_mode": {
    "name": "ipython",
    "version": 3
   },
   "file_extension": ".py",
   "mimetype": "text/x-python",
   "name": "python",
   "nbconvert_exporter": "python",
   "pygments_lexer": "ipython3",
   "version": "3.13.1"
  }
 },
 "nbformat": 4,
 "nbformat_minor": 2
}
