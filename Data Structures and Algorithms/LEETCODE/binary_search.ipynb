{
 "cells": [
  {
   "cell_type": "code",
   "execution_count": 17,
   "metadata": {},
   "outputs": [
    {
     "name": "stdout",
     "output_type": "stream",
     "text": [
      "Order-Agnostic : -1\n"
     ]
    }
   ],
   "source": [
    "# Order-Agnostic Binary Search\n",
    "\n",
    "\n",
    "def binary_search(start, end, nums, target):\n",
    "\n",
    "    if nums[start] == nums[end]:\n",
    "        return 0 if nums[0] == target else -1\n",
    "\n",
    "    is_ascending = nums[start] < nums[end]\n",
    "\n",
    "    while start <= end:\n",
    "        mid = (start + end) // 2\n",
    "\n",
    "        if nums[mid] == target:\n",
    "            return mid\n",
    "\n",
    "        if is_ascending:\n",
    "            if nums[mid] < target:\n",
    "                start = mid + 1\n",
    "            else:\n",
    "                end = mid - 1\n",
    "        else:\n",
    "            if nums[mid] > target:\n",
    "                start = mid + 1\n",
    "            else:\n",
    "                end = mid - 1\n",
    "    return -1\n",
    "\n",
    "\n",
    "def order_agnostic_search(nums, target):\n",
    "    start, end = 0, len(nums) - 1\n",
    "\n",
    "    return binary_search(start, end, nums, target)\n",
    "\n",
    "\n",
    "nums = [90, 79, 72, 60, 55, 35, 20, 15]\n",
    "# nums = [1, 4, 5, 6, 9]\n",
    "\n",
    "target = 1\n",
    "print(f\"Order-Agnostic : {order_agnostic_search(nums, target)}\")"
   ]
  },
  {
   "cell_type": "code",
   "execution_count": 48,
   "metadata": {},
   "outputs": [
    {
     "name": "stdout",
     "output_type": "stream",
     "text": [
      "Ceiling Of the target : 1\n",
      "Floor Of the target : -1\n"
     ]
    }
   ],
   "source": [
    "# Ceiling of A Number\n",
    "\n",
    "\n",
    "def floor_of_target(nums, target):\n",
    "    first, last = 0, len(nums) - 1\n",
    "\n",
    "    if target<nums[first]:\n",
    "        return -1\n",
    "\n",
    "    while first <= last:\n",
    "        mid = (first + last) // 2\n",
    "\n",
    "        if nums[mid] == target:\n",
    "            return mid\n",
    "        elif nums[mid] < target:\n",
    "            first = mid + 1\n",
    "        else:\n",
    "            last = mid - 1\n",
    "\n",
    "    return nums[last]\n",
    "\n",
    "\n",
    "def ceiling_of_target(nums, target):\n",
    "    first, last = 0, len(nums) - 1\n",
    "\n",
    "    if target>nums[last]:\n",
    "        return -1\n",
    "\n",
    "    while first <= last:\n",
    "        mid = (first + last) // 2\n",
    "\n",
    "        if nums[mid] == target:\n",
    "            return mid\n",
    "        elif nums[mid] < target:\n",
    "            first = mid + 1\n",
    "        else:\n",
    "            last = mid - 1\n",
    "\n",
    "    return nums[first]\n",
    "\n",
    "\n",
    "nums = [1, 2, 8, 10, 10, 12, 19]\n",
    "target = 0\n",
    "print(f\"Ceiling Of the target : {ceiling_of_target(nums, target)}\")\n",
    "print(f\"Floor Of the target : {floor_of_target(nums, target)}\")"
   ]
  },
  {
   "cell_type": "code",
   "execution_count": 69,
   "metadata": {},
   "outputs": [
    {
     "name": "stdout",
     "output_type": "stream",
     "text": [
      "Output: c\n"
     ]
    }
   ],
   "source": [
    "# 744. Find Smallest Letter Greater Than Target\n",
    "# https://leetcode.com/problems/find-smallest-letter-greater-than-target/description/\n",
    "\n",
    "\n",
    "def finding_smallest_letter(letters, target):\n",
    "    first, last = 0, len(letters) - 1\n",
    "\n",
    "    while first <= last:\n",
    "        mid = (first + last) // 2\n",
    "\n",
    "        if letters[mid] <= target:\n",
    "            first = mid + 1\n",
    "        else:\n",
    "            last = mid - 1\n",
    "\n",
    "    return letters[first % len(letters)]\n",
    "\n",
    "\n",
    "letters = [\"c\",\"f\",\"j\"]\n",
    "target = \"b\"\n",
    "print(f\"Output: {finding_smallest_letter(letters, target)}\")"
   ]
  },
  {
   "cell_type": "code",
   "execution_count": null,
   "metadata": {},
   "outputs": [],
   "source": []
  }
 ],
 "metadata": {
  "kernelspec": {
   "display_name": "Python 3",
   "language": "python",
   "name": "python3"
  },
  "language_info": {
   "codemirror_mode": {
    "name": "ipython",
    "version": 3
   },
   "file_extension": ".py",
   "mimetype": "text/x-python",
   "name": "python",
   "nbconvert_exporter": "python",
   "pygments_lexer": "ipython3",
   "version": "3.13.1"
  }
 },
 "nbformat": 4,
 "nbformat_minor": 2
}
