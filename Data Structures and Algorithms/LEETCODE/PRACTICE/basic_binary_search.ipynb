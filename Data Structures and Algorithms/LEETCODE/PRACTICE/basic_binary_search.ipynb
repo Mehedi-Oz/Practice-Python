{
 "cells": [
  {
   "cell_type": "code",
   "execution_count": 3,
   "metadata": {},
   "outputs": [
    {
     "name": "stdout",
     "output_type": "stream",
     "text": [
      "target Location: 8\n"
     ]
    }
   ],
   "source": [
    "# BASIC BINARY SEARCH\n",
    "\n",
    "def binary_search(nums, target):\n",
    "    first, last = 0, len(nums) - 1\n",
    "\n",
    "    while first <= last:\n",
    "        mid = (first + last) // 2\n",
    "\n",
    "        if nums[mid] == target:\n",
    "            return mid\n",
    "        elif nums[mid] > target:\n",
    "            last = mid - 1\n",
    "        elif nums[mid] < target:\n",
    "            first = mid + 1\n",
    "    return -1\n",
    "\n",
    "\n",
    "nums = [5, 7, 8, 10]\n",
    "# nums = [5, 7, 8, 8, 10, 10, 11, 13, 13, 13, 13]\n",
    "target = 10\n",
    "print(f\"target Location: {binary_search(nums, target)}\")\n"
   ]
  },
  {
   "cell_type": "code",
   "execution_count": 17,
   "metadata": {},
   "outputs": [
    {
     "name": "stdout",
     "output_type": "stream",
     "text": [
      "OUTPUT: 8\n"
     ]
    }
   ],
   "source": [
    "# Find the first element in an array using binary search\n",
    "\n",
    "def binary_search(first, last, nums, target):\n",
    "    result = -1\n",
    "\n",
    "    while first <= last:\n",
    "        mid = (first + last) // 2\n",
    "\n",
    "        if nums[mid] == target:\n",
    "            result = mid\n",
    "            last = mid - 1\n",
    "        elif nums[mid] > target:\n",
    "            last = mid - 1\n",
    "        elif nums[mid] < target:\n",
    "            first = mid + 1\n",
    "\n",
    "    return result\n",
    "\n",
    "\n",
    "def find_index(nums, target):\n",
    "    first, last = 0, len(nums) - 1\n",
    "    return binary_search(first, last, nums, target)\n",
    "\n",
    "\n",
    "nums = [5, 7, 8, 8, 10, 10, 11, 12, 13, 13, 13]\n",
    "target = 13\n",
    "print(f\"OUTPUT: {find_index(nums, target)}\")"
   ]
  },
  {
   "cell_type": "code",
   "execution_count": 21,
   "metadata": {},
   "outputs": [
    {
     "name": "stdout",
     "output_type": "stream",
     "text": [
      "OUTPUT: -1\n"
     ]
    }
   ],
   "source": [
    "# Find the last element in an array using binary search\n",
    "\n",
    "\n",
    "def binary_search(first, last, nums, target):\n",
    "    result = -1\n",
    "\n",
    "    while first <= last:\n",
    "        mid = (first + last) // 2\n",
    "\n",
    "        if nums[mid] == target:\n",
    "            result = mid\n",
    "            first = mid + 1\n",
    "        elif nums[mid] > target:\n",
    "            last = mid - 1\n",
    "        elif nums[mid] < target:\n",
    "            first = mid + 1\n",
    "\n",
    "    return result\n",
    "\n",
    "\n",
    "def find_index(nums, target):\n",
    "    first, last = 0, len(nums) - 1\n",
    "    return binary_search(first, last, nums, target)\n",
    "\n",
    "\n",
    "nums = [5, 7, 8, 8, 10, 10, 11, 12, 13, 13, 13, 13]\n",
    "target = 13\n",
    "print(f\"OUTPUT: {find_index(nums, target)}\")"
   ]
  },
  {
   "cell_type": "code",
   "execution_count": 25,
   "metadata": {},
   "outputs": [
    {
     "name": "stdout",
     "output_type": "stream",
     "text": [
      "OUTPUT: (3, 5)\n"
     ]
    }
   ],
   "source": [
    "# find the first and last position of an array using binary search\n",
    "\n",
    "\n",
    "def first_position(first, last, nums, target):\n",
    "    result = -1\n",
    "\n",
    "    while first <= last:\n",
    "        mid = (first + last) // 2\n",
    "\n",
    "        if nums[mid] == target:\n",
    "            result = mid\n",
    "            last = mid - 1\n",
    "        elif nums[mid] > target:\n",
    "            last = mid - 1\n",
    "        elif nums[mid] < target:\n",
    "            first = mid + 1\n",
    "\n",
    "    return result\n",
    "\n",
    "\n",
    "def last_position(first, last, nums, target):\n",
    "    result = -1\n",
    "\n",
    "    while first <= last:\n",
    "        mid = (first + last) // 2\n",
    "\n",
    "        if nums[mid] == target:\n",
    "            result = mid\n",
    "            first = mid + 1\n",
    "        elif nums[mid] > target:\n",
    "            last = mid - 1\n",
    "        elif nums[mid] < target:\n",
    "            first = mid + 1\n",
    "\n",
    "    return result\n",
    "\n",
    "\n",
    "def first_and_last_position(nums, target):\n",
    "    first, last = 0, len(nums) - 1\n",
    "\n",
    "    return first_position(first, last, nums, target), last_position(\n",
    "        first, last, nums, target\n",
    "    )\n",
    "\n",
    "\n",
    "nums = [5, 7, 7, 8, 8, 8, 10]\n",
    "target = 8\n",
    "print(f\"OUTPUT: {first_and_last_position(nums, target)}\")"
   ]
  },
  {
   "cell_type": "code",
   "execution_count": 8,
   "metadata": {},
   "outputs": [
    {
     "name": "stdout",
     "output_type": "stream",
     "text": [
      "First And Last Position: (3, 4)\n"
     ]
    }
   ],
   "source": [
    "# find the first and last position of an array using binary search\n",
    "\n",
    "\n",
    "def first_position(first, last, arr, target):\n",
    "\n",
    "    result = -1\n",
    "\n",
    "    while first <= last:\n",
    "        mid = (first + last) // 2\n",
    "\n",
    "        if arr[mid] == target:\n",
    "            result = mid\n",
    "            last = mid - 1\n",
    "        elif arr[mid] > target:\n",
    "            last = mid - 1\n",
    "        elif arr[mid] < target:\n",
    "            first = mid + 1\n",
    "\n",
    "    return result\n",
    "\n",
    "\n",
    "def last_position(first, last, arr, target):\n",
    "\n",
    "    result = -1\n",
    "\n",
    "    while first <= last:\n",
    "        mid = (first + last) // 2\n",
    "\n",
    "        if arr[mid] == target:\n",
    "            result = mid\n",
    "            first = mid + 1\n",
    "        elif arr[mid] > target:\n",
    "            last = mid - 1\n",
    "        elif arr[mid] < target:\n",
    "            first = mid + 1\n",
    "\n",
    "    return result\n",
    "\n",
    "\n",
    "def first_and_last_position(arr, target):\n",
    "    first, last = 0, len(arr) - 1\n",
    "    return first_position(first, last, arr, target), last_position(\n",
    "        first, last, arr, target\n",
    "    )\n",
    "\n",
    "\n",
    "arr = [5, 7, 7, 8, 8, 10]\n",
    "target = 8\n",
    "print(f\"First And Last Position: {first_and_last_position(arr, target)}\")"
   ]
  },
  {
   "cell_type": "code",
   "execution_count": 25,
   "metadata": {},
   "outputs": [
    {
     "name": "stdout",
     "output_type": "stream",
     "text": [
      "OUTPUT: 0\n"
     ]
    }
   ],
   "source": [
    "# 35. Search Insert Position\n",
    "\n",
    "\n",
    "def insert_position(nums, target):\n",
    "    first, last = 0, len(nums) - 1\n",
    "\n",
    "    while first <= last:\n",
    "        mid = (first + last) // 2\n",
    "\n",
    "        if nums[mid] > target:\n",
    "            last = mid - 1\n",
    "        elif nums[mid] < target:\n",
    "            first = mid + 1\n",
    "        else: \n",
    "            return mid\n",
    "\n",
    "    if nums[mid] < target:\n",
    "        return mid + 1\n",
    "    else:\n",
    "        return mid\n",
    "\n",
    "\n",
    "nums = [1, 3, 5, 6]\n",
    "target = 0\n",
    "print(f\"OUTPUT: {insert_position(nums, target)}\")"
   ]
  },
  {
   "cell_type": "code",
   "execution_count": 34,
   "metadata": {},
   "outputs": [
    {
     "name": "stdout",
     "output_type": "stream",
     "text": [
      "Find Minimum: 4\n"
     ]
    }
   ],
   "source": [
    "# 153. Find Minimum in Rotated Sorted Array\n",
    "\n",
    "\n",
    "def find_minimum(nums):\n",
    "    first, last = 0, len(nums) - 1\n",
    "\n",
    "    while first < last:\n",
    "        mid = (first + last) // 2\n",
    "\n",
    "        if nums[mid] > nums[last]:\n",
    "            first = mid + 1\n",
    "        else:\n",
    "            last = mid\n",
    "    return nums[last]\n",
    "\n",
    "\n",
    "nums = [4, 5, 6, 7]\n",
    "print(f\"Find Minimum: {find_minimum(nums)}\")"
   ]
  },
  {
   "cell_type": "code",
   "execution_count": 42,
   "metadata": {},
   "outputs": [
    {
     "name": "stdout",
     "output_type": "stream",
     "text": [
      "Peak Index: 3\n"
     ]
    }
   ],
   "source": [
    "# 852. Peak Index in a Mountain Array\n",
    "\n",
    "\n",
    "def peak_index(nums):\n",
    "    first, last = 0, len(nums) - 1\n",
    "\n",
    "    while first < last:\n",
    "        mid = (first + last) // 2\n",
    "\n",
    "        if nums[mid] > nums[mid+1]:\n",
    "            last = mid\n",
    "        else:\n",
    "            first = mid + 1\n",
    "\n",
    "    return first\n",
    "\n",
    "\n",
    "nums = [2,3,4,5,1]  # output=1\n",
    "print(f\"Peak Index: {peak_index(nums)}\")"
   ]
  },
  {
   "cell_type": "code",
   "execution_count": null,
   "metadata": {},
   "outputs": [],
   "source": [
    "#Fibo Formula"
   ]
  }
 ],
 "metadata": {
  "kernelspec": {
   "display_name": "Python 3",
   "language": "python",
   "name": "python3"
  },
  "language_info": {
   "codemirror_mode": {
    "name": "ipython",
    "version": 3
   },
   "file_extension": ".py",
   "mimetype": "text/x-python",
   "name": "python",
   "nbconvert_exporter": "python",
   "pygments_lexer": "ipython3",
   "version": "3.13.1"
  }
 },
 "nbformat": 4,
 "nbformat_minor": 2
}
