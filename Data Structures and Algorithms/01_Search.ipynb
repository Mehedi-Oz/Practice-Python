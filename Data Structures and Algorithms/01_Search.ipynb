{
 "cells": [
  {
   "cell_type": "code",
   "execution_count": 3,
   "metadata": {},
   "outputs": [
    {
     "name": "stdout",
     "output_type": "stream",
     "text": [
      "-1\n"
     ]
    }
   ],
   "source": [
    "# SOLUTION - Brute Force Algorithm\n",
    "\n",
    "\n",
    "def locate_card(cards, query):\n",
    "    position = 0\n",
    "    while True:\n",
    "        if query == cards[position]:\n",
    "            return position\n",
    "\n",
    "        position += 1\n",
    "\n",
    "        if position == len(cards):\n",
    "            return -1\n",
    "\n",
    "\n",
    "cards = [1, 5, 3, 0, 8, 4]\n",
    "query = 7\n",
    "print(locate_card(cards, query))"
   ]
  },
  {
   "cell_type": "code",
   "execution_count": 4,
   "metadata": {},
   "outputs": [
    {
     "name": "stdout",
     "output_type": "stream",
     "text": [
      "None\n"
     ]
    }
   ],
   "source": [
    "# SOLUTION - Brute Force Algorithm Optimized\n",
    "\n",
    "\n",
    "def locate_card(cards, query):\n",
    "    position = 0\n",
    "    while position < len(cards):\n",
    "        if query == cards[position]:\n",
    "            return position\n",
    "\n",
    "        position += 1\n",
    "\n",
    "        return -1\n",
    "\n",
    "\n",
    "cards = []\n",
    "query = 7\n",
    "print(locate_card(cards, query))"
   ]
  },
  {
   "cell_type": "code",
   "execution_count": 8,
   "metadata": {},
   "outputs": [
    {
     "name": "stdout",
     "output_type": "stream",
     "text": [
      "9\n"
     ]
    }
   ],
   "source": [
    "# SOLUTION - Binary Search Algorithm (Not Optimized)\n",
    "\n",
    "\n",
    "def locate_card(cards, query):\n",
    "    first, last = 0, len(cards) - 1\n",
    "\n",
    "    while first <= last:\n",
    "        mid = (first + last) // 2\n",
    "        mid_number = cards[mid]\n",
    "\n",
    "        if mid_number == query:\n",
    "            return mid\n",
    "        elif mid_number < query:\n",
    "            last = mid - 1\n",
    "        elif mid_number > query:\n",
    "            first = mid + 1\n",
    "            last = len(cards) - 1\n",
    "    return -1\n",
    "\n",
    "\n",
    "cards = [10, 9, 8, 7, 6, 5, 4, 3, 2, 1]\n",
    "query = 1\n",
    "print(locate_card(cards, query))"
   ]
  },
  {
   "cell_type": "code",
   "execution_count": null,
   "metadata": {},
   "outputs": [],
   "source": [
    "# SOLUTION - Binary Search Algorithm\n",
    "\n",
    "\n",
    "def locate_card(cards, query):\n",
    "    first, last = 0, len(cards) - 1\n",
    "\n",
    "    while first <= last:\n",
    "        mid = (first + last) // 2\n",
    "        mid_number = cards[mid]\n",
    "\n",
    "        if mid_number == query:\n",
    "            return mid\n",
    "        elif mid_number < query:\n",
    "            last = mid - 1\n",
    "        elif mid_number > query:\n",
    "            first = mid + 1\n",
    "            last = len(cards) - 1\n",
    "    return -1\n",
    "\n",
    "\n",
    "cards = [10, 9, 8, 7, 6, 5, 4, 3, 2, 1]\n",
    "query = 1\n",
    "print(locate_card(cards, query))"
   ]
  },
  {
   "cell_type": "code",
   "execution_count": 16,
   "metadata": {},
   "outputs": [
    {
     "name": "stdout",
     "output_type": "stream",
     "text": [
      "10\n"
     ]
    }
   ],
   "source": [
    "# SOLUTION - Binary Search Algorithm Optimized\n",
    "\n",
    "\n",
    "def test_location(cards, query, mid):\n",
    "    mid_number = cards[mid]\n",
    "\n",
    "    if mid_number == query:\n",
    "        if cards[mid - 1] == query and mid - 1 >= 0:\n",
    "            return \"left\"\n",
    "        else:\n",
    "            return \"found\"\n",
    "    elif mid_number > query:\n",
    "        return \"right\"\n",
    "    elif mid_number < query:\n",
    "        return \"left\"\n",
    "\n",
    "\n",
    "def locate_card(cards, query):\n",
    "    first, last = 0, len(cards) - 1\n",
    "\n",
    "    while first <= last:\n",
    "        mid = (first + last) // 2\n",
    "        result = test_location(cards, query, mid)\n",
    "\n",
    "        if result == \"found\":\n",
    "            return mid\n",
    "        elif result == \"right\":\n",
    "            first = mid + 1\n",
    "            last = len(cards) - 1\n",
    "        elif result == \"left\":\n",
    "            last = mid - 1\n",
    "    return -1\n",
    "\n",
    "\n",
    "cards = [10, 9, 9, 9, 8, 7, 6, 5, 4, 3, 2, 2, 1]\n",
    "query = 2\n",
    "print(locate_card(cards, query))"
   ]
  },
  {
   "cell_type": "code",
   "execution_count": 22,
   "metadata": {},
   "outputs": [
    {
     "name": "stdout",
     "output_type": "stream",
     "text": [
      "Query Location: 10\n"
     ]
    }
   ],
   "source": [
    "# SOLUTION - Binary Search Algorithm PYTHON\n",
    "\n",
    "\n",
    "def binary_search(first, last, condition):\n",
    "    while first <= last:\n",
    "        mid = (first + last) // 2\n",
    "        result = condition(mid)\n",
    "\n",
    "        if result == \"found\":\n",
    "            return mid\n",
    "        elif result == \"right\":\n",
    "            first = mid + 1\n",
    "            # last = len(cards) - 1\n",
    "        elif result == \"left\":\n",
    "            last = mid - 1\n",
    "    return -1\n",
    "\n",
    "\n",
    "def locate_card(cards, query):\n",
    "\n",
    "    def condition(mid):\n",
    "        if cards[mid] == query:\n",
    "            if cards[mid - 1] == query and mid > 0:\n",
    "                return \"left\"\n",
    "            else:\n",
    "                return \"found\"\n",
    "        elif cards[mid] > query:\n",
    "            return \"right\"\n",
    "        elif cards[mid] < query:\n",
    "            return \"left\"\n",
    "\n",
    "    return binary_search(0, len(cards) - 1, condition)\n",
    "\n",
    "\n",
    "cards = [10, 9, 9, 9, 8, 7, 6, 5, 4, 3, 2, 2, 1]\n",
    "query = 2\n",
    "print(f\"Query Location: {locate_card(cards, query)}\")"
   ]
  },
  {
   "cell_type": "code",
   "execution_count": 31,
   "metadata": {},
   "outputs": [
    {
     "name": "stdout",
     "output_type": "stream",
     "text": [
      "target Location: (1, 2)\n"
     ]
    }
   ],
   "source": [
    "# 34. Find First and Last Position of Element in Sorted Array - LEETCODE\n",
    "\n",
    "# Input: nums = [5,7,7,8,8,10], target = 8\n",
    "# Output: [3,4]\n",
    "\n",
    "\n",
    "def binary_search(first, last, condition):\n",
    "    while first <= last:\n",
    "        mid = (first + last) // 2\n",
    "        result = condition(mid)\n",
    "\n",
    "        if result == \"found\":\n",
    "            return mid\n",
    "        elif result == \"left\":\n",
    "            last = mid - 1\n",
    "        elif result == \"right\":\n",
    "            first = mid + 1\n",
    "    return -1\n",
    "\n",
    "\n",
    "def first_position(nums, target):\n",
    "    def condition(mid):\n",
    "        if nums[mid] == target:\n",
    "            if mid > 0 and nums[mid - 1] == target:\n",
    "                return \"left\"\n",
    "            return \"found\"\n",
    "        elif nums[mid] > target:\n",
    "            return \"left\"\n",
    "        elif nums[mid] < target:\n",
    "            return \"right\"\n",
    "\n",
    "    return binary_search(0, len(nums) - 1, condition)\n",
    "\n",
    "\n",
    "def last_position(nums, target):\n",
    "    def condition(mid):\n",
    "        if nums[mid] == target:\n",
    "            if mid < len(nums) - 1 and nums[mid + 1] == target:\n",
    "                return \"right\"\n",
    "            return \"found\"\n",
    "        elif nums[mid] > target:\n",
    "            return \"left\"\n",
    "        elif nums[mid] < target:\n",
    "            return \"right\"\n",
    "\n",
    "    return binary_search(0, len(nums) - 1, condition)\n",
    "\n",
    "\n",
    "def first_and_last_position(nums, target):\n",
    "    return first_position(nums, target), last_position(nums, target)\n",
    "\n",
    "\n",
    "nums = [5, 7, 7, 8, 8, 10]\n",
    "target = 7\n",
    "print(f\"target Location: {first_and_last_position(nums, target)}\")"
   ]
  }
 ],
 "metadata": {
  "kernelspec": {
   "display_name": "Python 3",
   "language": "python",
   "name": "python3"
  },
  "language_info": {
   "codemirror_mode": {
    "name": "ipython",
    "version": 3
   },
   "file_extension": ".py",
   "mimetype": "text/x-python",
   "name": "python",
   "nbconvert_exporter": "python",
   "pygments_lexer": "ipython3",
   "version": "3.13.1"
  }
 },
 "nbformat": 4,
 "nbformat_minor": 2
}
